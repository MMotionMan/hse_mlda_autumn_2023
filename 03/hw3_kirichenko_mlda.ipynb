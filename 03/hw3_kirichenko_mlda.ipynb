{
  "metadata": {
    "kernelspec": {
      "language": "python",
      "display_name": "Python 3",
      "name": "python3"
    },
    "language_info": {
      "name": "python",
      "version": "3.10.12",
      "mimetype": "text/x-python",
      "codemirror_mode": {
        "name": "ipython",
        "version": 3
      },
      "pygments_lexer": "ipython3",
      "nbconvert_exporter": "python",
      "file_extension": ".py"
    },
    "kaggle": {
      "accelerator": "none",
      "dataSources": [
        {
          "sourceId": 7033751,
          "sourceType": "datasetVersion",
          "datasetId": 4046103
        }
      ],
      "dockerImageVersionId": 30587,
      "isInternetEnabled": true,
      "language": "python",
      "sourceType": "notebook",
      "isGpuEnabled": false
    },
    "colab": {
      "provenance": []
    }
  },
  "nbformat_minor": 0,
  "nbformat": 4,
  "cells": [
    {
      "cell_type": "code",
      "source": [
        "from scipy import sparse\n",
        "from sklearn.cluster import DBSCAN\n",
        "import numpy as np\n",
        "from tqdm import tqdm\n",
        "from sklearn.decomposition import TruncatedSVD\n",
        "from sklearn.preprocessing import StandardScaler"
      ],
      "metadata": {
        "execution": {
          "iopub.status.busy": "2023-11-26T19:56:01.249107Z",
          "iopub.execute_input": "2023-11-26T19:56:01.249802Z",
          "iopub.status.idle": "2023-11-26T19:56:02.997347Z",
          "shell.execute_reply.started": "2023-11-26T19:56:01.249756Z",
          "shell.execute_reply": "2023-11-26T19:56:02.996042Z"
        },
        "trusted": true,
        "id": "S9Hm90hlX2_q"
      },
      "execution_count": null,
      "outputs": []
    },
    {
      "cell_type": "code",
      "source": [
        "!pip install umap"
      ],
      "metadata": {
        "id": "LJjNw0uYX2_r"
      },
      "execution_count": null,
      "outputs": []
    },
    {
      "cell_type": "code",
      "source": [
        "from scipy import sparse\n",
        "\n",
        "path = '/kaggle/input/hw3-mlda/train.npz'\n",
        "\n",
        "data = sparse.load_npz(path)"
      ],
      "metadata": {
        "execution": {
          "iopub.status.busy": "2023-11-26T19:56:04.214551Z",
          "iopub.execute_input": "2023-11-26T19:56:04.214973Z",
          "iopub.status.idle": "2023-11-26T19:56:04.718887Z",
          "shell.execute_reply.started": "2023-11-26T19:56:04.214938Z",
          "shell.execute_reply": "2023-11-26T19:56:04.717818Z"
        },
        "trusted": true,
        "id": "LZ3JoGP3X2_r"
      },
      "execution_count": null,
      "outputs": []
    },
    {
      "cell_type": "code",
      "source": [
        "data.shape"
      ],
      "metadata": {
        "trusted": true,
        "id": "3ImDQn1FX2_r"
      },
      "execution_count": null,
      "outputs": []
    },
    {
      "cell_type": "code",
      "source": [
        "tsvd = TruncatedSVD(n_components=10000)\n",
        "data = tsvd.fit_transform(data)"
      ],
      "metadata": {
        "execution": {
          "iopub.status.busy": "2023-11-26T13:52:28.238863Z",
          "iopub.execute_input": "2023-11-26T13:52:28.239205Z",
          "iopub.status.idle": "2023-11-26T14:25:58.027766Z",
          "shell.execute_reply.started": "2023-11-26T13:52:28.239173Z",
          "shell.execute_reply": "2023-11-26T14:25:58.026938Z"
        },
        "trusted": true,
        "id": "rOPuXWrEX2_r"
      },
      "execution_count": null,
      "outputs": []
    },
    {
      "cell_type": "code",
      "source": [
        "# scaler = StandardScaler()\n",
        "# data = scaler.fit_transform(data)\n"
      ],
      "metadata": {
        "execution": {
          "iopub.status.busy": "2023-11-26T14:25:58.029816Z",
          "iopub.execute_input": "2023-11-26T14:25:58.030115Z",
          "iopub.status.idle": "2023-11-26T14:25:59.956502Z",
          "shell.execute_reply.started": "2023-11-26T14:25:58.030089Z",
          "shell.execute_reply": "2023-11-26T14:25:59.955474Z"
        },
        "trusted": true,
        "id": "aaqQLulgX2_r"
      },
      "execution_count": null,
      "outputs": []
    },
    {
      "cell_type": "code",
      "source": [
        "import torch\n",
        "from torch import nn, optim\n",
        "from torch.utils.data import TensorDataset, DataLoader, Dataset\n",
        "import numpy as np\n",
        "from matplotlib import pyplot as plt\n",
        "from sklearn.preprocessing import MinMaxScaler"
      ],
      "metadata": {
        "execution": {
          "iopub.status.busy": "2023-11-26T14:25:59.957823Z",
          "iopub.execute_input": "2023-11-26T14:25:59.958214Z",
          "iopub.status.idle": "2023-11-26T14:26:03.169495Z",
          "shell.execute_reply.started": "2023-11-26T14:25:59.958187Z",
          "shell.execute_reply": "2023-11-26T14:26:03.168722Z"
        },
        "trusted": true,
        "id": "HIN5IUB4X2_r"
      },
      "execution_count": null,
      "outputs": []
    },
    {
      "cell_type": "markdown",
      "source": [
        "**Reduced dimensions with AutoEncoder**\n",
        "\n",
        "Не хватает оперативной памяти, чтобы полностью снизить размерность при помощи автоэнкодера. Возможно не получается набрать качества из-за плохого качества снижения размерности при помощи TruncatedSVD"
      ],
      "metadata": {
        "id": "u1263srdX2_r"
      }
    },
    {
      "cell_type": "code",
      "source": [
        "class Autoencoder(nn.Module):\n",
        "\n",
        "    def __init__(self, in_shape, enc_shape):\n",
        "        super(Autoencoder, self).__init__()\n",
        "\n",
        "        self.encode = nn.Sequential(\n",
        "            nn.Linear(in_shape, 5000),\n",
        "            nn.ReLU(),\n",
        "            nn.Linear(5000, 2048),\n",
        "            nn.BatchNorm1d(num_features=2048),\n",
        "            nn.ReLU(),\n",
        "            nn.Linear(2048, 1024),\n",
        "            nn.ReLU(),\n",
        "            nn.Linear(1024, 512),\n",
        "            nn.BatchNorm1d(num_features=512),\n",
        "            nn.ReLU(),\n",
        "            nn.Linear(512, 256),\n",
        "            nn.BatchNorm1d(num_features=256),\n",
        "            nn.ReLU(),\n",
        "            nn.Linear(256, enc_shape),\n",
        "        )\n",
        "\n",
        "        self.decode = nn.Sequential(\n",
        "            nn.Linear(enc_shape, 256),\n",
        "            nn.BatchNorm1d(num_features=256),\n",
        "            nn.ReLU(),\n",
        "            nn.Linear(256, 512),\n",
        "            nn.BatchNorm1d(num_features=512),\n",
        "            nn.ReLU(),\n",
        "            nn.Linear(512, 1024),\n",
        "            nn.ReLU(),\n",
        "            nn.Linear(1024, 2048),\n",
        "            nn.BatchNorm1d(num_features=2048),\n",
        "            nn.ReLU(),\n",
        "            nn.Linear(2048, 5000),\n",
        "            nn.ReLU(),\n",
        "            nn.Linear(5000, in_shape),\n",
        "        )\n",
        "\n",
        "    def forward(self, x):\n",
        "        x = self.encode(x)\n",
        "        x = self.decode(x)\n",
        "        return x"
      ],
      "metadata": {
        "execution": {
          "iopub.status.busy": "2023-11-26T14:27:41.425799Z",
          "iopub.execute_input": "2023-11-26T14:27:41.426161Z",
          "iopub.status.idle": "2023-11-26T14:27:41.436255Z",
          "shell.execute_reply.started": "2023-11-26T14:27:41.426132Z",
          "shell.execute_reply": "2023-11-26T14:27:41.435225Z"
        },
        "trusted": true,
        "id": "fPL2JfrzX2_s"
      },
      "execution_count": null,
      "outputs": []
    },
    {
      "cell_type": "code",
      "source": [
        "in_shape = data.shape[1]\n",
        "\n",
        "outp_shape = 128\n",
        "\n",
        "print(f'input shape: {in_shape}\\noutput shape: {outp_shape}')"
      ],
      "metadata": {
        "execution": {
          "iopub.status.busy": "2023-11-26T14:27:44.777570Z",
          "iopub.execute_input": "2023-11-26T14:27:44.777950Z",
          "iopub.status.idle": "2023-11-26T14:27:44.782961Z",
          "shell.execute_reply.started": "2023-11-26T14:27:44.777918Z",
          "shell.execute_reply": "2023-11-26T14:27:44.782023Z"
        },
        "trusted": true,
        "id": "KhRCrmVjX2_t",
        "outputId": "6584fcc5-ef76-46c5-ed1b-74effd2a0151"
      },
      "execution_count": null,
      "outputs": [
        {
          "name": "stdout",
          "text": "input shape: 10000\noutput shape: 128\n",
          "output_type": "stream"
        }
      ]
    },
    {
      "cell_type": "code",
      "source": [
        "device = ('cuda' if torch.cuda.is_available() else 'cpu')\n",
        "\n",
        "model = Autoencoder(in_shape, outp_shape).to(device)\n",
        "loss_function = torch.nn.MSELoss()\n",
        "optimizer = optim.Adam(model.parameters(), lr=1e-5, weight_decay=1e-8)"
      ],
      "metadata": {
        "execution": {
          "iopub.status.busy": "2023-11-26T14:27:46.132794Z",
          "iopub.execute_input": "2023-11-26T14:27:46.133544Z",
          "iopub.status.idle": "2023-11-26T14:27:50.229397Z",
          "shell.execute_reply.started": "2023-11-26T14:27:46.133512Z",
          "shell.execute_reply": "2023-11-26T14:27:50.228587Z"
        },
        "trusted": true,
        "id": "QZiU_C_0X2_u"
      },
      "execution_count": null,
      "outputs": []
    },
    {
      "cell_type": "code",
      "source": [
        "from torch.utils.data import Dataset, DataLoader\n",
        "\n",
        "class DataBuilder(Dataset):\n",
        "    def __init__(self, data):\n",
        "        self.x = data.astype(np.float32)\n",
        "        self.x = torch.from_numpy(self.x).to(device)\n",
        "        self.len=self.x.shape[0]\n",
        "    def __getitem__(self,index):\n",
        "        return self.x[index]\n",
        "    def __len__(self):\n",
        "        return self.len"
      ],
      "metadata": {
        "execution": {
          "iopub.status.busy": "2023-11-26T14:27:53.941843Z",
          "iopub.execute_input": "2023-11-26T14:27:53.942583Z",
          "iopub.status.idle": "2023-11-26T14:27:53.948526Z",
          "shell.execute_reply.started": "2023-11-26T14:27:53.942548Z",
          "shell.execute_reply": "2023-11-26T14:27:53.947503Z"
        },
        "trusted": true,
        "id": "qCqzyFwJX2_u"
      },
      "execution_count": null,
      "outputs": []
    },
    {
      "cell_type": "code",
      "source": [
        "data_set=DataBuilder(data)\n",
        "trainloader=DataLoader(dataset=data_set, batch_size=256)"
      ],
      "metadata": {
        "execution": {
          "iopub.status.busy": "2023-11-26T14:27:57.164067Z",
          "iopub.execute_input": "2023-11-26T14:27:57.164788Z",
          "iopub.status.idle": "2023-11-26T14:27:57.525021Z",
          "shell.execute_reply.started": "2023-11-26T14:27:57.164754Z",
          "shell.execute_reply": "2023-11-26T14:27:57.524239Z"
        },
        "trusted": true,
        "id": "A7UvLI-GX2_u"
      },
      "execution_count": null,
      "outputs": []
    },
    {
      "cell_type": "code",
      "source": [
        "for batch_idx, data in enumerate(trainloader):\n",
        "    print(data)\n",
        "    break"
      ],
      "metadata": {
        "execution": {
          "iopub.status.busy": "2023-11-26T14:28:00.571631Z",
          "iopub.execute_input": "2023-11-26T14:28:00.572485Z",
          "iopub.status.idle": "2023-11-26T14:28:00.637936Z",
          "shell.execute_reply.started": "2023-11-26T14:28:00.572452Z",
          "shell.execute_reply": "2023-11-26T14:28:00.637031Z"
        },
        "trusted": true,
        "id": "Na7YSO7xX2_u",
        "outputId": "40e33022-2cb6-4f5e-d5e9-db39d8a96632"
      },
      "execution_count": null,
      "outputs": [
        {
          "name": "stdout",
          "text": "tensor([[-0.5774, -0.1401, -0.5667,  ...,  1.3953,  0.5620,  0.4986],\n        [-0.5866,  0.0187, -0.9178,  ..., -0.3092, -1.6825, -0.6424],\n        [-0.7684, -0.0971, -0.4790,  ..., -0.5788, -0.0686,  0.6600],\n        ...,\n        [-0.3644, -0.4105, -0.0705,  ..., -0.8006, -0.4632, -0.5481],\n        [ 1.2024, -2.5246,  1.3206,  ..., -0.1296, -0.1680,  0.4034],\n        [-1.3497, -0.1204,  0.3824,  ...,  0.1806,  1.2808, -0.9061]],\n       device='cuda:0')\n",
          "output_type": "stream"
        }
      ]
    },
    {
      "cell_type": "code",
      "source": [
        "from tqdm import tqdm\n",
        "\n",
        "def train(epoch):\n",
        "    loss_function = nn.MSELoss()\n",
        "    model.train()\n",
        "    train_loss = 0\n",
        "    for batch_idx, data in enumerate(trainloader):\n",
        "        data = data.to(device)\n",
        "        optimizer.zero_grad()\n",
        "        recon_batch = model(data)\n",
        "        loss = loss_function(recon_batch, data)\n",
        "        loss.backward()\n",
        "        train_loss += loss.item()\n",
        "        optimizer.step()\n",
        "\n",
        "    if epoch % 20 == 0:\n",
        "        print('====> Epoch: {} Average loss: {:.4f}'.format(\n",
        "            epoch, train_loss / len(trainloader.dataset)))\n",
        "        train_losses.append(train_loss / len(trainloader.dataset))"
      ],
      "metadata": {
        "execution": {
          "iopub.status.busy": "2023-11-26T14:28:02.705729Z",
          "iopub.execute_input": "2023-11-26T14:28:02.706114Z",
          "iopub.status.idle": "2023-11-26T14:28:02.713288Z",
          "shell.execute_reply.started": "2023-11-26T14:28:02.706083Z",
          "shell.execute_reply": "2023-11-26T14:28:02.712019Z"
        },
        "trusted": true,
        "id": "sRbN8UYDX2_u"
      },
      "execution_count": null,
      "outputs": []
    },
    {
      "cell_type": "code",
      "source": [
        "epochs = 1000\n",
        "\n",
        "val_losses = []\n",
        "train_losses = []\n",
        "\n",
        "for epoch in range(1, epochs + 1):\n",
        "    train(epoch)"
      ],
      "metadata": {
        "execution": {
          "iopub.status.busy": "2023-11-26T14:28:08.215372Z",
          "iopub.execute_input": "2023-11-26T14:28:08.216162Z",
          "iopub.status.idle": "2023-11-26T16:01:28.841255Z",
          "shell.execute_reply.started": "2023-11-26T14:28:08.216131Z",
          "shell.execute_reply": "2023-11-26T16:01:28.840267Z"
        },
        "trusted": true,
        "id": "JlqOCyG9X2_u",
        "outputId": "1e97f291-2799-437f-f050-9b29cdcbaaa0"
      },
      "execution_count": null,
      "outputs": [
        {
          "name": "stdout",
          "text": "====> Epoch: 20 Average loss: 0.0038\n====> Epoch: 40 Average loss: 0.0037\n====> Epoch: 60 Average loss: 0.0037\n====> Epoch: 80 Average loss: 0.0036\n====> Epoch: 100 Average loss: 0.0035\n====> Epoch: 120 Average loss: 0.0035\n====> Epoch: 140 Average loss: 0.0034\n====> Epoch: 160 Average loss: 0.0034\n====> Epoch: 180 Average loss: 0.0033\n====> Epoch: 200 Average loss: 0.0033\n====> Epoch: 220 Average loss: 0.0032\n====> Epoch: 240 Average loss: 0.0032\n====> Epoch: 260 Average loss: 0.0031\n====> Epoch: 280 Average loss: 0.0031\n====> Epoch: 300 Average loss: 0.0030\n====> Epoch: 320 Average loss: 0.0030\n====> Epoch: 340 Average loss: 0.0030\n====> Epoch: 360 Average loss: 0.0029\n====> Epoch: 380 Average loss: 0.0029\n====> Epoch: 400 Average loss: 0.0028\n====> Epoch: 420 Average loss: 0.0028\n====> Epoch: 440 Average loss: 0.0028\n====> Epoch: 460 Average loss: 0.0028\n====> Epoch: 480 Average loss: 0.0027\n====> Epoch: 500 Average loss: 0.0027\n====> Epoch: 520 Average loss: 0.0027\n====> Epoch: 540 Average loss: 0.0027\n====> Epoch: 560 Average loss: 0.0026\n====> Epoch: 580 Average loss: 0.0026\n====> Epoch: 600 Average loss: 0.0026\n====> Epoch: 620 Average loss: 0.0026\n====> Epoch: 640 Average loss: 0.0026\n====> Epoch: 660 Average loss: 0.0026\n====> Epoch: 680 Average loss: 0.0026\n====> Epoch: 700 Average loss: 0.0025\n====> Epoch: 720 Average loss: 0.0025\n====> Epoch: 740 Average loss: 0.0025\n====> Epoch: 760 Average loss: 0.0025\n====> Epoch: 780 Average loss: 0.0025\n====> Epoch: 800 Average loss: 0.0025\n====> Epoch: 820 Average loss: 0.0025\n====> Epoch: 840 Average loss: 0.0025\n====> Epoch: 860 Average loss: 0.0024\n====> Epoch: 880 Average loss: 0.0024\n====> Epoch: 900 Average loss: 0.0024\n====> Epoch: 920 Average loss: 0.0024\n====> Epoch: 940 Average loss: 0.0024\n====> Epoch: 960 Average loss: 0.0024\n====> Epoch: 980 Average loss: 0.0024\n====> Epoch: 1000 Average loss: 0.0024\n====> Epoch: 1020 Average loss: 0.0024\n====> Epoch: 1040 Average loss: 0.0024\n====> Epoch: 1060 Average loss: 0.0024\n====> Epoch: 1080 Average loss: 0.0024\n====> Epoch: 1100 Average loss: 0.0024\n====> Epoch: 1120 Average loss: 0.0024\n====> Epoch: 1140 Average loss: 0.0024\n====> Epoch: 1160 Average loss: 0.0024\n====> Epoch: 1180 Average loss: 0.0023\n====> Epoch: 1200 Average loss: 0.0023\n====> Epoch: 1220 Average loss: 0.0023\n====> Epoch: 1240 Average loss: 0.0023\n====> Epoch: 1260 Average loss: 0.0023\n====> Epoch: 1280 Average loss: 0.0023\n====> Epoch: 1300 Average loss: 0.0023\n====> Epoch: 1320 Average loss: 0.0023\n====> Epoch: 1340 Average loss: 0.0023\n====> Epoch: 1360 Average loss: 0.0023\n====> Epoch: 1380 Average loss: 0.0023\n====> Epoch: 1400 Average loss: 0.0023\n====> Epoch: 1420 Average loss: 0.0023\n====> Epoch: 1440 Average loss: 0.0023\n====> Epoch: 1460 Average loss: 0.0023\n====> Epoch: 1480 Average loss: 0.0023\n====> Epoch: 1500 Average loss: 0.0023\n====> Epoch: 1520 Average loss: 0.0023\n====> Epoch: 1540 Average loss: 0.0023\n====> Epoch: 1560 Average loss: 0.0023\n====> Epoch: 1580 Average loss: 0.0023\n====> Epoch: 1600 Average loss: 0.0023\n====> Epoch: 1620 Average loss: 0.0023\n====> Epoch: 1640 Average loss: 0.0023\n====> Epoch: 1660 Average loss: 0.0023\n====> Epoch: 1680 Average loss: 0.0023\n====> Epoch: 1700 Average loss: 0.0023\n====> Epoch: 1720 Average loss: 0.0023\n====> Epoch: 1740 Average loss: 0.0023\n====> Epoch: 1760 Average loss: 0.0023\n====> Epoch: 1780 Average loss: 0.0023\n====> Epoch: 1800 Average loss: 0.0023\n====> Epoch: 1820 Average loss: 0.0023\n====> Epoch: 1840 Average loss: 0.0023\n====> Epoch: 1860 Average loss: 0.0023\n====> Epoch: 1880 Average loss: 0.0023\n====> Epoch: 1900 Average loss: 0.0022\n====> Epoch: 1920 Average loss: 0.0022\n====> Epoch: 1940 Average loss: 0.0022\n====> Epoch: 1960 Average loss: 0.0022\n====> Epoch: 1980 Average loss: 0.0022\n====> Epoch: 2000 Average loss: 0.0022\n",
          "output_type": "stream"
        }
      ]
    },
    {
      "cell_type": "code",
      "source": [
        "outp_emb = []\n",
        "with torch.no_grad():\n",
        "    for i, (data) in enumerate(trainloader):\n",
        "        data = data.to(device)\n",
        "        outp_emb.append(model.encode(data))\n",
        "        result_emb = torch.cat(outp_emb, dim=0)"
      ],
      "metadata": {
        "execution": {
          "iopub.status.busy": "2023-11-26T16:01:45.601804Z",
          "iopub.execute_input": "2023-11-26T16:01:45.602533Z",
          "iopub.status.idle": "2023-11-26T16:01:45.772929Z",
          "shell.execute_reply.started": "2023-11-26T16:01:45.602502Z",
          "shell.execute_reply": "2023-11-26T16:01:45.772236Z"
        },
        "trusted": true,
        "id": "hq3nmXO5X2_u"
      },
      "execution_count": null,
      "outputs": []
    },
    {
      "cell_type": "code",
      "source": [
        "result_emb = result_emb.cpu().numpy()"
      ],
      "metadata": {
        "execution": {
          "iopub.status.busy": "2023-11-26T16:02:00.672975Z",
          "iopub.execute_input": "2023-11-26T16:02:00.673330Z",
          "iopub.status.idle": "2023-11-26T16:02:00.682536Z",
          "shell.execute_reply.started": "2023-11-26T16:02:00.673303Z",
          "shell.execute_reply": "2023-11-26T16:02:00.681747Z"
        },
        "trusted": true,
        "id": "zu3G4dA1X2_u"
      },
      "execution_count": null,
      "outputs": []
    },
    {
      "cell_type": "code",
      "source": [],
      "metadata": {
        "id": "-Fj-S48zX2_u"
      },
      "execution_count": null,
      "outputs": []
    },
    {
      "cell_type": "code",
      "source": [
        "result_emb.shape"
      ],
      "metadata": {
        "execution": {
          "iopub.status.busy": "2023-11-26T16:02:01.836796Z",
          "iopub.execute_input": "2023-11-26T16:02:01.837624Z",
          "iopub.status.idle": "2023-11-26T16:02:01.843404Z",
          "shell.execute_reply.started": "2023-11-26T16:02:01.837588Z",
          "shell.execute_reply": "2023-11-26T16:02:01.842489Z"
        },
        "trusted": true,
        "id": "DnB47T5rX2_u",
        "outputId": "f1cf13d1-1273-4ce2-b5b4-6669d6c5035e"
      },
      "execution_count": null,
      "outputs": [
        {
          "execution_count": 22,
          "output_type": "execute_result",
          "data": {
            "text/plain": "(14590, 128)"
          },
          "metadata": {}
        }
      ]
    },
    {
      "cell_type": "markdown",
      "source": [
        "**AgglomerativeClustering**"
      ],
      "metadata": {
        "id": "R5Mg0K2vX2_v"
      }
    },
    {
      "cell_type": "code",
      "source": [
        "from sklearn.cluster import AgglomerativeClustering\n",
        "from tqdm import tqdm\n",
        "from time import time\n",
        "\n",
        "subm = []\n",
        "\n",
        "for linkage in tqdm(['ward', 'average', 'complete', 'single']):\n",
        "    clustering = AgglomerativeClustering(linkage=linkage, n_clusters=3)\n",
        "    clustering = clustering.fit(reduced_embedding)\n",
        "    subm.append(clustering.labels_)"
      ],
      "metadata": {
        "execution": {
          "iopub.status.busy": "2023-11-26T16:28:01.898968Z",
          "iopub.execute_input": "2023-11-26T16:28:01.899967Z",
          "iopub.status.idle": "2023-11-26T16:28:47.490904Z",
          "shell.execute_reply.started": "2023-11-26T16:28:01.899925Z",
          "shell.execute_reply": "2023-11-26T16:28:47.489887Z"
        },
        "trusted": true,
        "id": "E7kyKUDOX2_v",
        "outputId": "cd8f37c9-6d05-427a-e4aa-1ef93e923ce7"
      },
      "execution_count": null,
      "outputs": [
        {
          "name": "stderr",
          "text": "100%|██████████| 4/4 [00:45<00:00, 11.40s/it]\n",
          "output_type": "stream"
        }
      ]
    },
    {
      "cell_type": "code",
      "source": [
        "np.unique(subm[0], return_counts=True)"
      ],
      "metadata": {
        "execution": {
          "iopub.status.busy": "2023-11-26T16:11:54.120161Z",
          "iopub.execute_input": "2023-11-26T16:11:54.120895Z",
          "iopub.status.idle": "2023-11-26T16:11:54.127412Z",
          "shell.execute_reply.started": "2023-11-26T16:11:54.120861Z",
          "shell.execute_reply": "2023-11-26T16:11:54.126464Z"
        },
        "trusted": true,
        "id": "lSZl6sPrX2_v",
        "outputId": "618790d3-c705-4d10-ce93-e835fa9bc208"
      },
      "execution_count": null,
      "outputs": [
        {
          "execution_count": 40,
          "output_type": "execute_result",
          "data": {
            "text/plain": "(array([0, 1, 2]), array([5346, 3878, 5366]))"
          },
          "metadata": {}
        }
      ]
    },
    {
      "cell_type": "code",
      "source": [
        "np.unique(subm[0], return_counts=True)"
      ],
      "metadata": {
        "execution": {
          "iopub.status.busy": "2023-11-26T16:30:27.608402Z",
          "iopub.execute_input": "2023-11-26T16:30:27.609290Z",
          "iopub.status.idle": "2023-11-26T16:30:27.616498Z",
          "shell.execute_reply.started": "2023-11-26T16:30:27.609254Z",
          "shell.execute_reply": "2023-11-26T16:30:27.615441Z"
        },
        "trusted": true,
        "id": "qQqXkSmaX2_v",
        "outputId": "d11ac153-3b97-4161-f7ab-5304ae47eaac"
      },
      "execution_count": null,
      "outputs": [
        {
          "execution_count": 67,
          "output_type": "execute_result",
          "data": {
            "text/plain": "(array([0, 1, 2]), array([6693, 4983, 2914]))"
          },
          "metadata": {}
        }
      ]
    },
    {
      "cell_type": "markdown",
      "source": [
        "**end clust**"
      ],
      "metadata": {
        "id": "qJ0N-MgqX2_v"
      }
    },
    {
      "cell_type": "code",
      "source": [
        "!pip install umap"
      ],
      "metadata": {
        "execution": {
          "iopub.status.busy": "2023-11-26T16:04:06.469200Z",
          "iopub.execute_input": "2023-11-26T16:04:06.469580Z",
          "iopub.status.idle": "2023-11-26T16:04:21.308253Z",
          "shell.execute_reply.started": "2023-11-26T16:04:06.469549Z",
          "shell.execute_reply": "2023-11-26T16:04:21.307221Z"
        },
        "trusted": true,
        "id": "XHnKuVSqX2_v",
        "outputId": "aac39ce0-6f1b-4301-eb19-0a802de58fd1"
      },
      "execution_count": null,
      "outputs": [
        {
          "name": "stdout",
          "text": "Collecting umap\n  Downloading umap-0.1.1.tar.gz (3.2 kB)\n  Preparing metadata (setup.py) ... \u001b[?25ldone\n\u001b[?25hBuilding wheels for collected packages: umap\n  Building wheel for umap (setup.py) ... \u001b[?25ldone\n\u001b[?25h  Created wheel for umap: filename=umap-0.1.1-py3-none-any.whl size=3541 sha256=fef8b0c7cdae6306a4348b5b8a087da4913f903ca52ed316d1674c82363f001d\n  Stored in directory: /root/.cache/pip/wheels/15/f1/28/53dcf7a309118ed35d810a5f9cb995217800f3f269ab5771cb\nSuccessfully built umap\nInstalling collected packages: umap\nSuccessfully installed umap-0.1.1\n",
          "output_type": "stream"
        }
      ]
    },
    {
      "cell_type": "code",
      "source": [
        "from umap.umap_ import UMAP\n",
        "\n",
        "reducer = UMAP(n_components=64)\n",
        "reduced_embedding = reducer.fit_transform(result_emb)"
      ],
      "metadata": {
        "execution": {
          "iopub.status.busy": "2023-11-26T16:15:47.438470Z",
          "iopub.execute_input": "2023-11-26T16:15:47.439400Z",
          "iopub.status.idle": "2023-11-26T16:16:02.459970Z",
          "shell.execute_reply.started": "2023-11-26T16:15:47.439360Z",
          "shell.execute_reply": "2023-11-26T16:16:02.459174Z"
        },
        "trusted": true,
        "id": "lISUvyi5X2_v"
      },
      "execution_count": null,
      "outputs": []
    },
    {
      "cell_type": "code",
      "source": [
        "np.array(reduced_embedding).shape"
      ],
      "metadata": {
        "execution": {
          "iopub.status.busy": "2023-11-26T16:16:36.389525Z",
          "iopub.execute_input": "2023-11-26T16:16:36.390129Z",
          "iopub.status.idle": "2023-11-26T16:16:36.396535Z",
          "shell.execute_reply.started": "2023-11-26T16:16:36.390095Z",
          "shell.execute_reply": "2023-11-26T16:16:36.395629Z"
        },
        "trusted": true,
        "id": "yf9IzuGfX2_v",
        "outputId": "b2dff489-77c9-4e2b-8414-8fe472c90f7b"
      },
      "execution_count": null,
      "outputs": [
        {
          "execution_count": 47,
          "output_type": "execute_result",
          "data": {
            "text/plain": "(14590, 64)"
          },
          "metadata": {}
        }
      ]
    },
    {
      "cell_type": "code",
      "source": [
        "!pip install hdbscan"
      ],
      "metadata": {
        "execution": {
          "iopub.status.busy": "2023-11-26T16:17:47.692556Z",
          "iopub.execute_input": "2023-11-26T16:17:47.692935Z",
          "iopub.status.idle": "2023-11-26T16:19:03.899889Z",
          "shell.execute_reply.started": "2023-11-26T16:17:47.692906Z",
          "shell.execute_reply": "2023-11-26T16:19:03.898795Z"
        },
        "trusted": true,
        "id": "cPrF89VqX2_v",
        "outputId": "27774ba6-e9fc-49ff-95bb-658feb64bad9"
      },
      "execution_count": null,
      "outputs": [
        {
          "name": "stdout",
          "text": "Collecting hdbscan\n  Downloading hdbscan-0.8.33.tar.gz (5.2 MB)\n\u001b[2K     \u001b[90m━━━━━━━━━━━━━━━━━━━━━━━━━━━━━━━━━━━━━━━━\u001b[0m \u001b[32m5.2/5.2 MB\u001b[0m \u001b[31m57.9 MB/s\u001b[0m eta \u001b[36m0:00:00\u001b[0m00:01\u001b[0m00:01\u001b[0m\n\u001b[?25h  Installing build dependencies ... \u001b[?25ldone\n\u001b[?25h  Getting requirements to build wheel ... \u001b[?25ldone\n\u001b[?25h  Preparing metadata (pyproject.toml) ... \u001b[?25ldone\n\u001b[?25hCollecting cython<3,>=0.27 (from hdbscan)\n  Obtaining dependency information for cython<3,>=0.27 from https://files.pythonhosted.org/packages/f8/26/ca0f1bb049b83c25cafa39f3fa5287c826a6ab36e665c906209e07f4deac/Cython-0.29.36-cp310-cp310-manylinux_2_17_x86_64.manylinux2014_x86_64.manylinux_2_24_x86_64.whl.metadata\n  Using cached Cython-0.29.36-cp310-cp310-manylinux_2_17_x86_64.manylinux2014_x86_64.manylinux_2_24_x86_64.whl.metadata (3.1 kB)\nRequirement already satisfied: numpy>=1.20 in /opt/conda/lib/python3.10/site-packages (from hdbscan) (1.24.3)\nRequirement already satisfied: scipy>=1.0 in /opt/conda/lib/python3.10/site-packages (from hdbscan) (1.11.3)\nRequirement already satisfied: scikit-learn>=0.20 in /opt/conda/lib/python3.10/site-packages (from hdbscan) (1.2.2)\nRequirement already satisfied: joblib>=1.0 in /opt/conda/lib/python3.10/site-packages (from hdbscan) (1.3.2)\nRequirement already satisfied: threadpoolctl>=2.0.0 in /opt/conda/lib/python3.10/site-packages (from scikit-learn>=0.20->hdbscan) (3.2.0)\nUsing cached Cython-0.29.36-cp310-cp310-manylinux_2_17_x86_64.manylinux2014_x86_64.manylinux_2_24_x86_64.whl (1.9 MB)\nBuilding wheels for collected packages: hdbscan\n  Building wheel for hdbscan (pyproject.toml) ... \u001b[?25ldone\n\u001b[?25h  Created wheel for hdbscan: filename=hdbscan-0.8.33-cp310-cp310-linux_x86_64.whl size=735806 sha256=5ae31659a0873d044ace94e5be76504b6a501bc7f2e1801845cb609547cffb5e\n  Stored in directory: /root/.cache/pip/wheels/75/0b/3b/dc4f60b7cc455efaefb62883a7483e76f09d06ca81cf87d610\nSuccessfully built hdbscan\nInstalling collected packages: cython, hdbscan\n  Attempting uninstall: cython\n    Found existing installation: Cython 3.0.0\n    Uninstalling Cython-3.0.0:\n      Successfully uninstalled Cython-3.0.0\nSuccessfully installed cython-0.29.36 hdbscan-0.8.33\n",
          "output_type": "stream"
        }
      ]
    },
    {
      "cell_type": "code",
      "source": [
        "import hdbscan\n",
        "\n",
        "labels = hdbscan.HDBSCAN(algorithm='best', alpha=1.0, approx_min_span_tree=True,\n",
        "    gen_min_span_tree=False, leaf_size=40,\n",
        "    metric='minkowski', min_cluster_size=3500, min_samples=1000, p=1).fit_predict(reduced_embedding)"
      ],
      "metadata": {
        "execution": {
          "iopub.status.busy": "2023-11-26T16:25:26.531879Z",
          "iopub.execute_input": "2023-11-26T16:25:26.532521Z",
          "iopub.status.idle": "2023-11-26T16:25:58.238888Z",
          "shell.execute_reply.started": "2023-11-26T16:25:26.532485Z",
          "shell.execute_reply": "2023-11-26T16:25:58.237722Z"
        },
        "trusted": true,
        "id": "CPuL70sQX2_v"
      },
      "execution_count": null,
      "outputs": []
    },
    {
      "cell_type": "code",
      "source": [
        "np.unique(labels)"
      ],
      "metadata": {
        "execution": {
          "iopub.status.busy": "2023-11-26T16:25:58.240687Z",
          "iopub.execute_input": "2023-11-26T16:25:58.241057Z",
          "iopub.status.idle": "2023-11-26T16:25:58.248607Z",
          "shell.execute_reply.started": "2023-11-26T16:25:58.241027Z",
          "shell.execute_reply": "2023-11-26T16:25:58.247469Z"
        },
        "trusted": true,
        "id": "DA-VaadxX2_v",
        "outputId": "0431efaa-4b5f-4b78-9415-59239f131bfb"
      },
      "execution_count": null,
      "outputs": [
        {
          "execution_count": 58,
          "output_type": "execute_result",
          "data": {
            "text/plain": "array([-1])"
          },
          "metadata": {}
        }
      ]
    },
    {
      "cell_type": "code",
      "source": [
        "import pandas as pd\n",
        "\n",
        "\n",
        "\n",
        "idx = []\n",
        "label = []\n",
        "for i in range(len(subm[0])):\n",
        "    idx.append(i)\n",
        "    label.append(subm[0][i])\n",
        "\n",
        "df = pd.DataFrame({'ID': idx, 'TARGET': label})\n",
        "df.to_csv(f'subm_kirichenko_scaled_640.csv', index=False)"
      ],
      "metadata": {
        "execution": {
          "iopub.status.busy": "2023-11-26T16:31:01.839967Z",
          "iopub.execute_input": "2023-11-26T16:31:01.840745Z",
          "iopub.status.idle": "2023-11-26T16:31:01.951080Z",
          "shell.execute_reply.started": "2023-11-26T16:31:01.840688Z",
          "shell.execute_reply": "2023-11-26T16:31:01.950365Z"
        },
        "trusted": true,
        "id": "aOI1anflX2_v"
      },
      "execution_count": null,
      "outputs": []
    },
    {
      "cell_type": "markdown",
      "source": [
        "**Spectral Clustering**"
      ],
      "metadata": {
        "id": "_NRTqIX8X2_w"
      }
    },
    {
      "cell_type": "code",
      "source": [
        "from sklearn.cluster import SpectralClustering"
      ],
      "metadata": {
        "execution": {
          "iopub.status.busy": "2023-11-26T19:27:52.018303Z",
          "iopub.execute_input": "2023-11-26T19:27:52.019122Z",
          "iopub.status.idle": "2023-11-26T19:27:53.719037Z",
          "shell.execute_reply.started": "2023-11-26T19:27:52.019074Z",
          "shell.execute_reply": "2023-11-26T19:27:53.717225Z"
        },
        "trusted": true,
        "id": "e5GlW8SLX2_w"
      },
      "execution_count": null,
      "outputs": []
    },
    {
      "cell_type": "code",
      "source": [
        "from scipy import sparse\n",
        "\n",
        "path = '/kaggle/input/hw3-mlda/train.npz'\n",
        "\n",
        "data = sparse.load_npz(path)"
      ],
      "metadata": {
        "execution": {
          "iopub.status.busy": "2023-11-26T19:27:44.922182Z",
          "iopub.execute_input": "2023-11-26T19:27:44.922553Z",
          "iopub.status.idle": "2023-11-26T19:27:45.051610Z",
          "shell.execute_reply.started": "2023-11-26T19:27:44.922524Z",
          "shell.execute_reply": "2023-11-26T19:27:45.050622Z"
        },
        "trusted": true,
        "id": "pMW3njksX2_w"
      },
      "execution_count": null,
      "outputs": []
    },
    {
      "cell_type": "code",
      "source": [
        "tsvd = TruncatedSVD(n_components=15000)\n",
        "data = tsvd.fit_transform(data)"
      ],
      "metadata": {
        "execution": {
          "iopub.status.busy": "2023-11-26T19:28:02.840930Z",
          "iopub.execute_input": "2023-11-26T19:28:02.841722Z"
        },
        "trusted": true,
        "id": "ZHA1ZSLlX2_w"
      },
      "execution_count": null,
      "outputs": []
    },
    {
      "cell_type": "code",
      "source": [
        "data"
      ],
      "metadata": {
        "execution": {
          "iopub.status.busy": "2023-11-26T18:46:44.465308Z",
          "iopub.status.idle": "2023-11-26T18:46:44.466715Z",
          "shell.execute_reply.started": "2023-11-26T18:46:44.466212Z",
          "shell.execute_reply": "2023-11-26T18:46:44.466256Z"
        },
        "trusted": true,
        "id": "d2f9LGrbX2_w"
      },
      "execution_count": null,
      "outputs": []
    },
    {
      "cell_type": "code",
      "source": [
        "clustering = SpectralClustering(n_clusters=3)\n",
        "\n",
        "labels = clustering.fit_predict(data)"
      ],
      "metadata": {
        "trusted": true,
        "id": "cx5CEVUvX2_w"
      },
      "execution_count": null,
      "outputs": []
    },
    {
      "cell_type": "code",
      "source": [
        "labels"
      ],
      "metadata": {
        "execution": {
          "iopub.status.busy": "2023-11-26T17:49:14.479467Z",
          "iopub.execute_input": "2023-11-26T17:49:14.480298Z",
          "iopub.status.idle": "2023-11-26T17:49:14.491418Z",
          "shell.execute_reply.started": "2023-11-26T17:49:14.480257Z",
          "shell.execute_reply": "2023-11-26T17:49:14.489369Z"
        },
        "trusted": true,
        "id": "SY0FXg8RX2_w",
        "outputId": "79ff0931-493f-45ee-c0fe-4709e2b616be"
      },
      "execution_count": null,
      "outputs": [
        {
          "execution_count": 10,
          "output_type": "execute_result",
          "data": {
            "text/plain": "array([1, 1, 1, ..., 1, 0, 1], dtype=int32)"
          },
          "metadata": {}
        }
      ]
    },
    {
      "cell_type": "code",
      "source": [
        "labels"
      ],
      "metadata": {
        "execution": {
          "iopub.status.busy": "2023-11-26T18:46:44.470165Z",
          "iopub.status.idle": "2023-11-26T18:46:44.470541Z",
          "shell.execute_reply.started": "2023-11-26T18:46:44.470370Z",
          "shell.execute_reply": "2023-11-26T18:46:44.470385Z"
        },
        "trusted": true,
        "id": "jdgOaTYzX2_6"
      },
      "execution_count": null,
      "outputs": []
    },
    {
      "cell_type": "code",
      "source": [
        "import pandas as pd\n",
        "\n",
        "df = pd.DataFrame({'ID': [i for i in range(len(labels))], 'TARGET': labels})\n",
        "df.to_csv(f'subm_kirichenko_scaled_lastTochnoReduced.csv', index=False)"
      ],
      "metadata": {
        "trusted": true,
        "id": "NDJREWh-X2_6"
      },
      "execution_count": null,
      "outputs": []
    },
    {
      "cell_type": "code",
      "source": [
        "data"
      ],
      "metadata": {
        "execution": {
          "iopub.status.busy": "2023-11-26T16:45:54.373608Z",
          "iopub.execute_input": "2023-11-26T16:45:54.374478Z",
          "iopub.status.idle": "2023-11-26T16:45:54.380129Z",
          "shell.execute_reply.started": "2023-11-26T16:45:54.374447Z",
          "shell.execute_reply": "2023-11-26T16:45:54.379208Z"
        },
        "trusted": true,
        "id": "J9LwZxeJX2_6",
        "outputId": "66db3ce9-039a-4829-baed-66bd268cb7f0"
      },
      "execution_count": null,
      "outputs": [
        {
          "execution_count": 80,
          "output_type": "execute_result",
          "data": {
            "text/plain": "<14590x77888 sparse matrix of type '<class 'numpy.float64'>'\n\twith 2026769 stored elements in Compressed Sparse Row format>"
          },
          "metadata": {}
        }
      ]
    },
    {
      "cell_type": "markdown",
      "source": [
        "**Reduce dimensions with UMAP and SpectarlClustering**"
      ],
      "metadata": {
        "id": "VV7kstDTX2_6"
      }
    },
    {
      "cell_type": "code",
      "source": [
        "from scipy import sparse\n",
        "\n",
        "path = '/kaggle/input/hw3-mlda/train.npz'\n",
        "\n",
        "data = sparse.load_npz(path)"
      ],
      "metadata": {
        "execution": {
          "iopub.status.busy": "2023-11-26T19:59:19.136996Z",
          "iopub.execute_input": "2023-11-26T19:59:19.137446Z",
          "iopub.status.idle": "2023-11-26T19:59:19.333405Z",
          "shell.execute_reply.started": "2023-11-26T19:59:19.137407Z",
          "shell.execute_reply": "2023-11-26T19:59:19.332119Z"
        },
        "trusted": true,
        "id": "pGDWic0-X2_6"
      },
      "execution_count": null,
      "outputs": []
    },
    {
      "cell_type": "code",
      "source": [
        "from umap.umap_ import UMAP\n",
        "\n",
        "reducer = UMAP(n_components=10000)\n",
        "reduced_embedding = reducer.fit_transform(data)"
      ],
      "metadata": {
        "execution": {
          "iopub.status.busy": "2023-11-26T19:59:27.606855Z",
          "iopub.execute_input": "2023-11-26T19:59:27.607921Z"
        },
        "trusted": true,
        "id": "9hnWn6eaX2_6"
      },
      "execution_count": null,
      "outputs": []
    },
    {
      "cell_type": "code",
      "source": [
        "clustering = SpectralClustering(n_clusters=3)\n",
        "\n",
        "labels = clustering.fit_predict(reduced_embedding)"
      ],
      "metadata": {
        "trusted": true,
        "id": "6XZuPwLLX2_6"
      },
      "execution_count": null,
      "outputs": []
    }
  ]
}